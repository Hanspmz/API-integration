{
 "cells": [
  {
   "cell_type": "markdown",
   "id": "db355cfc-75d8-4554-9f09-b9ad3613e020",
   "metadata": {},
   "source": [
    "Tooldev\n",
    "Create a function that receives an array of characters of size N and count how many times the word “tooldev” can be generated.\n",
    " \n",
    "Example Input\n",
    "Input #1:  [t, t, o, e, d, v, l, l, e, v, d, t, o]\n",
    "Input #2:  [t, t, t, o, o, o, o, l, l, d, d, e, e, v, v]\n",
    "Input #3:  [t, o, o, o, o, l, l, d, d, e, e, v, v, l, d, e, v, o, o]\n",
    " \n",
    "Output\n",
    "Output #1: 1\n",
    "Output #2: 2\n",
    "Output #3: 1"
   ]
  },
  {
   "cell_type": "code",
   "execution_count": 14,
   "id": "b2ce88bf-b0d3-44d4-a61d-f123f1a394f7",
   "metadata": {},
   "outputs": [
    {
     "ename": "IndentationError",
     "evalue": "unexpected indent (3929387408.py, line 7)",
     "output_type": "error",
     "traceback": [
      "\u001b[1;36m  Cell \u001b[1;32mIn [14], line 7\u001b[1;36m\u001b[0m\n\u001b[1;33m    i=0\u001b[0m\n\u001b[1;37m    ^\u001b[0m\n\u001b[1;31mIndentationError\u001b[0m\u001b[1;31m:\u001b[0m unexpected indent\n"
     ]
    }
   ],
   "source": [
    "Input1=  [t, t, o, e, d, v, l, l, e, v, d, t, o]\n",
    "Input2=  [t, t, t, o, o, o, o, l, l, d, d, e, e, v, v]\n",
    "Input3=  [t, o, o, o, o, l, l, d, d, e, e, v, v, l, d, e, v, o, o]\n",
    "\n",
    "\n",
    "def word_count(List, word)\n",
    "    i=0\n",
    "    j=0\n",
    "    for i in List:\n",
    "    i=i+1\n",
    "        for j in word: \n",
    "        j=1\n",
    "    \n",
    "        if word == List\n",
    "    return 0\n",
    "        else\n",
    "    return 1\n",
    "    \n",
    "    \n",
    "    return i"
   ]
  },
  {
   "cell_type": "code",
   "execution_count": null,
   "id": "cb26b97b-93d0-4626-86d8-59414dc9489b",
   "metadata": {},
   "outputs": [],
   "source": []
  }
 ],
 "metadata": {
  "kernelspec": {
   "display_name": "Python 3 (ipykernel)",
   "language": "python",
   "name": "python3"
  },
  "language_info": {
   "codemirror_mode": {
    "name": "ipython",
    "version": 3
   },
   "file_extension": ".py",
   "mimetype": "text/x-python",
   "name": "python",
   "nbconvert_exporter": "python",
   "pygments_lexer": "ipython3",
   "version": "3.8.10"
  }
 },
 "nbformat": 4,
 "nbformat_minor": 5
}
