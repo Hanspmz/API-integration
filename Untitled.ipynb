{
 "cells": [
  {
   "cell_type": "code",
   "execution_count": 3,
   "id": "fac6b22f-447a-4571-873d-61c2ca05aac2",
   "metadata": {},
   "outputs": [],
   "source": [
    "List = [1,3,5,7]"
   ]
  },
  {
   "cell_type": "code",
   "execution_count": 7,
   "id": "55ede83b-4ad1-482a-a9af-33108fe1030e",
   "metadata": {},
   "outputs": [
    {
     "name": "stdout",
     "output_type": "stream",
     "text": [
      "1\n",
      "3\n",
      "5\n",
      "7\n"
     ]
    }
   ],
   "source": [
    "for i in List:\n",
    "    print(i)"
   ]
  },
  {
   "cell_type": "code",
   "execution_count": 10,
   "id": "72fe5b87-c457-45c4-94d0-9e6561909961",
   "metadata": {},
   "outputs": [
    {
     "name": "stdout",
     "output_type": "stream",
     "text": [
      "16\n"
     ]
    }
   ],
   "source": [
    "Sum=0\n",
    "for i in List:\n",
    "    Sum=Sum+i\n",
    "print(Sum)"
   ]
  },
  {
   "cell_type": "code",
   "execution_count": 8,
   "id": "567b61c2-d172-4c6d-b742-77ef03e4edcc",
   "metadata": {},
   "outputs": [
    {
     "data": {
      "text/plain": [
       "16"
      ]
     },
     "execution_count": 8,
     "metadata": {},
     "output_type": "execute_result"
    }
   ],
   "source": [
    "sum(List)"
   ]
  },
  {
   "cell_type": "code",
   "execution_count": 4,
   "id": "e20d1919-bd78-4add-8e5c-cfb6e601f381",
   "metadata": {},
   "outputs": [
    {
     "data": {
      "text/plain": [
       "2"
      ]
     },
     "execution_count": 4,
     "metadata": {},
     "output_type": "execute_result"
    }
   ],
   "source": [
    "List.index(5)"
   ]
  },
  {
   "cell_type": "code",
   "execution_count": 6,
   "id": "c77fb194-94c7-4c0a-a361-c446a6d4d9f9",
   "metadata": {},
   "outputs": [
    {
     "name": "stdout",
     "output_type": "stream",
     "text": [
      "mayor de edad\n"
     ]
    }
   ],
   "source": [
    "edad = 20\n",
    "if edad < 18:\n",
    "    print(\"menor de edad\")\n",
    "else:\n",
    "    print(\"mayor de edad\")"
   ]
  },
  {
   "cell_type": "code",
   "execution_count": 11,
   "id": "3aabbf5c-96ad-40bf-bbec-9df3767214d3",
   "metadata": {},
   "outputs": [],
   "source": [
    "List = [1,3,5,7]"
   ]
  },
  {
   "cell_type": "code",
   "execution_count": 25,
   "id": "82a6f7a2-1f7b-494c-87df-7b72b7a1d1d7",
   "metadata": {},
   "outputs": [],
   "source": [
    "def busq_l(List, x):\n",
    "    i=0\n",
    "    for z in List:\n",
    "        if z == x:\n",
    "            return i\n",
    "        else:\n",
    "            i=i+1\n",
    "    return -1"
   ]
  },
  {
   "cell_type": "code",
   "execution_count": 28,
   "id": "c76b62c0-9749-4eec-a0a9-820d22329521",
   "metadata": {},
   "outputs": [
    {
     "data": {
      "text/plain": [
       "0"
      ]
     },
     "execution_count": 28,
     "metadata": {},
     "output_type": "execute_result"
    }
   ],
   "source": [
    "busq_l(List, 1)"
   ]
  },
  {
   "cell_type": "code",
   "execution_count": null,
   "id": "13d76f2f-d1c3-4ef1-a89a-1d1b33704a82",
   "metadata": {},
   "outputs": [],
   "source": []
  }
 ],
 "metadata": {
  "kernelspec": {
   "display_name": "Python 3 (ipykernel)",
   "language": "python",
   "name": "python3"
  },
  "language_info": {
   "codemirror_mode": {
    "name": "ipython",
    "version": 3
   },
   "file_extension": ".py",
   "mimetype": "text/x-python",
   "name": "python",
   "nbconvert_exporter": "python",
   "pygments_lexer": "ipython3",
   "version": "3.8.10"
  }
 },
 "nbformat": 4,
 "nbformat_minor": 5
}
